{
  "nbformat": 4,
  "nbformat_minor": 0,
  "metadata": {
    "colab": {
      "name": "QuantMachine_Challenge.ipynb",
      "provenance": [],
      "authorship_tag": "ABX9TyNIWSNXkYyOS2+Nus9fSTCz",
      "include_colab_link": true
    },
    "kernelspec": {
      "name": "python3",
      "display_name": "Python 3"
    },
    "language_info": {
      "name": "python"
    }
  },
  "cells": [
    {
      "cell_type": "markdown",
      "metadata": {
        "id": "view-in-github",
        "colab_type": "text"
      },
      "source": [
        "<a href=\"https://colab.research.google.com/github/blackgreenc/Quant/blob/main/QuantMachine_Challenge.ipynb\" target=\"_parent\"><img src=\"https://colab.research.google.com/assets/colab-badge.svg\" alt=\"Open In Colab\"/></a>"
      ]
    },
    {
      "cell_type": "markdown",
      "metadata": {
        "id": "6I00tLebxIKY"
      },
      "source": [
        "<h1>THE MAN WHO SOLVED THE MARKET</h1>\n",
        "<h3>이책의 영향으로 퀀트 머신을 만들려한다</h3>"
      ]
    },
    {
      "cell_type": "code",
      "metadata": {
        "id": "gYinrYfyw-k5"
      },
      "source": [
        ""
      ],
      "execution_count": null,
      "outputs": []
    }
  ]
}